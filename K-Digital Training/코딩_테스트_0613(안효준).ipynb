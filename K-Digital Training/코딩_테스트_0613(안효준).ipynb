{
 "cells": [
  {
   "cell_type": "markdown",
   "metadata": {},
   "source": [
    ">1. 문자열 리스트를 입력 받아서 내림차순 결과 가장 낮은 문자열과 가장 높은 문자열을 출력하는 코드 구현하세요."
   ]
  },
  {
   "cell_type": "code",
   "execution_count": 19,
   "metadata": {},
   "outputs": [
    {
     "name": "stdout",
     "output_type": "stream",
     "text": [
      "정렬 결과 : ['zero', 'child', 'apple', 'Zoo', 'Good', 'Flower']\n",
      "가장 높은 문자열 : zero, 가장 낮은 문자열 : Flower\n"
     ]
    }
   ],
   "source": [
    "msg = ['Good', 'child', 'Zoo', 'apple', 'Flower', 'zero']\n",
    "\n",
    "sorted_msg = sorted(msg, reverse = True)\n",
    "\n",
    "print('정렬 결과 :', sorted_msg)\n",
    "print('가장 높은 문자열 :', sorted_msg[0] + ', 가장 낮은 문자열 :', sorted_msg[len(sorted_msg)-1])"
   ]
  },
  {
   "cell_type": "markdown",
   "metadata": {},
   "source": [
    ">2. 입력 받은 데이터 중에서 숫자만 모두 저장하여 합계 최대값 최소값을 출력하는 코드 구현하세요."
   ]
  },
  {
   "cell_type": "code",
   "execution_count": 63,
   "metadata": {},
   "outputs": [],
   "source": [
    "def summary_number():\n",
    "    input_data = input('데이터 입력 :')\n",
    "\n",
    "    split_data = input_data.split(' ')\n",
    "\n",
    "    numbers = []\n",
    "\n",
    "    for i in split_data:\n",
    "        if i.isdigit() == True:\n",
    "            numbers.append(int(i))\n",
    "\n",
    "    if numbers == []:\n",
    "        numbers.append(0)\n",
    "\n",
    "    print('합계 :', sum(numbers), '      최댓값 :', max(numbers), '      최솟값 :', min(numbers))\n"
   ]
  },
  {
   "cell_type": "code",
   "execution_count": 64,
   "metadata": {},
   "outputs": [
    {
     "name": "stdout",
     "output_type": "stream",
     "text": [
      "합계 : 2060       최댓값 : 2021       최솟값 : 7\n"
     ]
    }
   ],
   "source": [
    "# 데이터 입력 : 하늘 Apple 2021 9 False 23 7 None 끝\n",
    "summary_number()"
   ]
  },
  {
   "cell_type": "code",
   "execution_count": 65,
   "metadata": {},
   "outputs": [
    {
     "name": "stdout",
     "output_type": "stream",
     "text": [
      "합계 : 0       최댓값 : 0       최솟값 : 0\n"
     ]
    }
   ],
   "source": [
    "# 데이터 입력 : A 홍길동 False True True None Good Luck 가나다라\n",
    "summary_number()"
   ]
  },
  {
   "cell_type": "markdown",
   "metadata": {},
   "source": [
    ">3. 아래 조건을 만족하는 코드를 작성하세요."
   ]
  },
  {
   "cell_type": "code",
   "execution_count": 350,
   "metadata": {},
   "outputs": [
    {
     "name": "stdout",
     "output_type": "stream",
     "text": [
      "65\n",
      "97\n",
      "['A', 'B', 'C', 'D', 'E', 'F', 'G', 'H', 'I', 'J', 'K', 'L', 'M', 'N', 'O', 'P', 'R', 'S', 'T', 'U', 'V', 'W', 'X', 'Y', 'Z']\n",
      "['a', 'b', 'c', 'd', 'e', 'f', 'g', 'h', 'i', 'j', 'k', 'l', 'm', 'n', 'o', 'p', 'r', 's', 't', 'u', 'v', 'w', 'x', 'y', 'z']\n"
     ]
    }
   ],
   "source": [
    "print(ord('A')) # A의 아스키 코드는 65번\n",
    "print(ord('a')) # a의 아스키 코드는 97번\n",
    "\n",
    "# 알파벳은 총 26개\n",
    "\n",
    "upper = []\n",
    "\n",
    "for i in range(ord('A'), ord('A') + 26):\n",
    "    upper.append(chr(i))\n",
    "\n",
    "lower = []\n",
    "\n",
    "for i in range(ord('a'), ord('a') + 26):\n",
    "    lower.append(chr(i))\n",
    "\n",
    "\n",
    "# q와 Q 삭제\n",
    "upper.remove('Q')\n",
    "print(upper)\n",
    "\n",
    "lower.remove('q')\n",
    "print(lower)"
   ]
  },
  {
   "cell_type": "code",
   "execution_count": 371,
   "metadata": {},
   "outputs": [
    {
     "name": "stdout",
     "output_type": "stream",
     "text": [
      "♤\n",
      "♠\n",
      "◎◎◎◎◎\n",
      "알파벳 한 글자 또는 0~9 사이의 정수를 입력하세요.\n",
      "알파벳 한 글자 또는 0~9 사이의 정수를 입력하세요.\n",
      "알파벳 한 글자 또는 0~9 사이의 정수를 입력하세요.\n"
     ]
    }
   ],
   "source": [
    "while True:\n",
    "    input_data = input()\n",
    "    # 입력 데이터가 대문자일때\n",
    "    if input_data in upper:\n",
    "        print('♠')\n",
    "    \n",
    "    # 입력 데이터가 소문자일때\n",
    "    elif input_data in lower:\n",
    "        print('♤')\n",
    "\n",
    "    # 입력 데이터가 0~9 사이의 정수일때\n",
    "    elif (input_data.isdigit() == True) and (int(input_data) in range(0, 10)):\n",
    "        print(int(input_data) * '◎')\n",
    "\n",
    "    # 입력 데이터가 q 또는 Q일때\n",
    "    elif input_data in ('q', 'Q'):\n",
    "        break # 스탑\n",
    "\n",
    "    else:\n",
    "        print('알파벳 한 글자 또는 0~9 사이의 정수를 입력하세요.')\n",
    "\n",
    "# c입력\n",
    "# Y입력\n",
    "# 5입력\n",
    "# 2.5입력\n",
    "# 13입력\n",
    "# ㅁ입력\n",
    "# q입력"
   ]
  },
  {
   "cell_type": "markdown",
   "metadata": {},
   "source": [
    ">4. 아래 조건을 만족하는 코드를 작성하세요."
   ]
  },
  {
   "cell_type": "code",
   "execution_count": 74,
   "metadata": {},
   "outputs": [
    {
     "name": "stdout",
     "output_type": "stream",
     "text": [
      "[3, 6, 7, 8, 9, 12, 14, 15, 16, 18, 21, 24, 27, 28, 30, 32, 33, 35, 36, 39, 40, 42, 45, 48, 49, 51, 54, 56, 57, 60, 63, 64, 66, 69, 70, 72, 75, 77, 78, 80, 81, 84, 87, 88, 90, 91, 93, 96, 98, 99]\n"
     ]
    }
   ],
   "source": [
    "numbers = list(range(1, 101))\n",
    "\n",
    "result = []\n",
    "\n",
    "for i in numbers:\n",
    "    # 3의 배수이거나 7의 배수이거나 8의 배수면 저장\n",
    "    if i % 3 == 0 or i % 7 == 0 or i % 8 == 0:\n",
    "        result.append(i)\n",
    "    # 아니라면 다시 for문으로 돌아가기\n",
    "    else:\n",
    "        continue\n",
    "\n",
    "print(result)"
   ]
  },
  {
   "cell_type": "markdown",
   "metadata": {},
   "source": [
    ">5. 문자열을 입력하면 코드값을 아래와 같이 출력해주는 함수를 구현해 주세요."
   ]
  },
  {
   "cell_type": "code",
   "execution_count": 382,
   "metadata": {},
   "outputs": [],
   "source": [
    "def str_encoding(data):\n",
    "    try:\n",
    "        ascii_data = []\n",
    "\n",
    "        # 아스키 코드로 변환\n",
    "        for i in range(len(data)):\n",
    "            ascii_data.append(ord(data[i]))\n",
    "\n",
    "\n",
    "        # 앞에 0x가 붙어 있어 16진수임을 짐작\n",
    "        hex_data = []\n",
    "\n",
    "        for i in range(len(ascii_data)):\n",
    "            hex_data.append(hex(ascii_data[i]))\n",
    "\n",
    "        print('\"' + data + '\"의 인코딩 :', ''.join(hex_data))\n",
    "\n",
    "\n",
    "        # 앞에 0b가 붙어 있어 2진수임을 짐작\n",
    "        bin_data = []\n",
    "\n",
    "        for i in range(len(ascii_data)):\n",
    "            bin_data.append(bin(ascii_data[i]))\n",
    "\n",
    "        print('\"' + data + '\" 인코딩 :', ''.join(bin_data))\n",
    "        \n",
    "    except:\n",
    "        print('문자열을 입력하세요.')"
   ]
  },
  {
   "cell_type": "code",
   "execution_count": 383,
   "metadata": {},
   "outputs": [
    {
     "name": "stdout",
     "output_type": "stream",
     "text": [
      "\"가나다\"의 인코딩 : 0xac000xb0980xb2e4\n",
      "\"가나다\" 인코딩 : 0b10101100000000000b10110000100110000b1011001011100100\n"
     ]
    }
   ],
   "source": [
    "data = \"가나다\"\n",
    "\n",
    "str_encoding(data)"
   ]
  },
  {
   "cell_type": "code",
   "execution_count": 384,
   "metadata": {},
   "outputs": [
    {
     "name": "stdout",
     "output_type": "stream",
     "text": [
      "\"안효준\"의 인코딩 : 0xc5480xd6a80xc900\n",
      "\"안효준\" 인코딩 : 0b11000101010010000b11010110101010000b1100100100000000\n"
     ]
    }
   ],
   "source": [
    "data = \"안효준\"\n",
    "\n",
    "str_encoding(data)"
   ]
  },
  {
   "cell_type": "code",
   "execution_count": 385,
   "metadata": {},
   "outputs": [
    {
     "name": "stdout",
     "output_type": "stream",
     "text": [
      "문자열을 입력하세요.\n"
     ]
    }
   ],
   "source": [
    "data = 123\n",
    "\n",
    "str_encoding(data)"
   ]
  },
  {
   "cell_type": "markdown",
   "metadata": {},
   "source": [
    ">6. 아래와 같이 출력된 함수를 구현해 주세요."
   ]
  },
  {
   "cell_type": "code",
   "execution_count": 377,
   "metadata": {},
   "outputs": [],
   "source": [
    "def gugudan(dan):\n",
    "    if dan in range(1, 10):\n",
    "        # 곱셈 결과값 저장\n",
    "        result_number = [dan * i for i in range(1, 10)]\n",
    "\n",
    "        # 몇 단인지 표기\n",
    "        print(f'------------------------- {dan}단 ---------------------')\n",
    "\n",
    "        # 3번째 계산마다 줄 바꾸기\n",
    "        for i in range(0, 7, 3):\n",
    "            for j in range(1, 4):\n",
    "                print(dan, '*', i + j, '=', result_number[i + j - 1], end = '          ')\n",
    "            print('')\n",
    "    else:\n",
    "        print('1~9 사이의 정수를 입력하세요')"
   ]
  },
  {
   "cell_type": "code",
   "execution_count": 378,
   "metadata": {},
   "outputs": [
    {
     "name": "stdout",
     "output_type": "stream",
     "text": [
      "------------------------- 3단 ---------------------\n",
      "3 * 1 = 3          3 * 2 = 6          3 * 3 = 9          \n",
      "3 * 4 = 12          3 * 5 = 15          3 * 6 = 18          \n",
      "3 * 7 = 21          3 * 8 = 24          3 * 9 = 27          \n"
     ]
    }
   ],
   "source": [
    "단 = 3\n",
    "\n",
    "gugudan(단)"
   ]
  },
  {
   "cell_type": "code",
   "execution_count": 379,
   "metadata": {},
   "outputs": [
    {
     "name": "stdout",
     "output_type": "stream",
     "text": [
      "------------------------- 7단 ---------------------\n",
      "7 * 1 = 7          7 * 2 = 14          7 * 3 = 21          \n",
      "7 * 4 = 28          7 * 5 = 35          7 * 6 = 42          \n",
      "7 * 7 = 49          7 * 8 = 56          7 * 9 = 63          \n"
     ]
    }
   ],
   "source": [
    "단 = 7\n",
    "\n",
    "gugudan(단)"
   ]
  },
  {
   "cell_type": "code",
   "execution_count": 380,
   "metadata": {},
   "outputs": [
    {
     "name": "stdout",
     "output_type": "stream",
     "text": [
      "1~9 사이의 정수를 입력하세요\n"
     ]
    }
   ],
   "source": [
    "단 = 1.3\n",
    "\n",
    "gugudan(1.3)"
   ]
  },
  {
   "cell_type": "markdown",
   "metadata": {},
   "source": [
    ">7. 숫자와 콤마로만 이루어진 문자열 data가 주어지면 이때, data에 포함되어 있는 자연수의 합과 가장 작은 수, 가장 큰 수를 출력하는 함수를 구현하세요."
   ]
  },
  {
   "cell_type": "code",
   "execution_count": 223,
   "metadata": {},
   "outputs": [],
   "source": [
    "def summary_data(data):\n",
    "    numbers = []\n",
    "\n",
    "    # 숫자를 하나씩 쪼개서 정수형으로 저장하기\n",
    "    for i in range(len(data)):\n",
    "        if data[i].isdigit() == True:\n",
    "            numbers.append(int(data[i]))\n",
    "\n",
    "    print(f'\"{data}\"의 합 : {sum(numbers)}, 가장 큰 수 : {max(numbers)}, 가장 작은 수 : {min(numbers)}')"
   ]
  },
  {
   "cell_type": "code",
   "execution_count": 224,
   "metadata": {},
   "outputs": [
    {
     "name": "stdout",
     "output_type": "stream",
     "text": [
      "\"123,42,98,18\"의 합 : 38, 가장 큰 수 : 9, 가장 작은 수 : 1\n"
     ]
    }
   ],
   "source": [
    "data = '123,42,98,18'\n",
    "\n",
    "summary_data(data)"
   ]
  },
  {
   "cell_type": "code",
   "execution_count": 225,
   "metadata": {},
   "outputs": [
    {
     "name": "stdout",
     "output_type": "stream",
     "text": [
      "\"1,234\"의 합 : 10, 가장 큰 수 : 4, 가장 작은 수 : 1\n"
     ]
    }
   ],
   "source": [
    "data = '1,234'\n",
    "\n",
    "summary_data(data)"
   ]
  },
  {
   "cell_type": "markdown",
   "metadata": {},
   "source": [
    ">8. 업-다운 게임 기능의 함수를 구현하세요."
   ]
  },
  {
   "cell_type": "code",
   "execution_count": 388,
   "metadata": {},
   "outputs": [],
   "source": [
    "def up_down_game():\n",
    "\n",
    "    import random\n",
    "\n",
    "    number = random.randint(1, 100)\n",
    "\n",
    "    while True: # 계속 반복\n",
    "        input_number = int(input('빙고 넘버 :'))\n",
    "\n",
    "        if input_number > number:\n",
    "            print(f'힌트 {input_number}보다 작은 수')\n",
    "\n",
    "        elif input_number < number:\n",
    "            print(f'힌트 {input_number}보다 큰 수')\n",
    "            \n",
    "        else:\n",
    "            print('정답 *~ 빙고 ~*')\n",
    "            break # 정답이면 스탑"
   ]
  },
  {
   "cell_type": "code",
   "execution_count": 389,
   "metadata": {},
   "outputs": [
    {
     "name": "stdout",
     "output_type": "stream",
     "text": [
      "힌트 50보다 큰 수\n",
      "힌트 60보다 큰 수\n",
      "힌트 70보다 작은 수\n",
      "힌트 80보다 작은 수\n",
      "힌트 65보다 작은 수\n",
      "힌트 63보다 작은 수\n",
      "힌트 62보다 작은 수\n",
      "정답 *~ 빙고 ~*\n"
     ]
    }
   ],
   "source": [
    "up_down_game()"
   ]
  },
  {
   "cell_type": "markdown",
   "metadata": {},
   "source": [
    ">9. 월(Month)을 입력 받아 해당 월(Month)의 영어와 계절을 출력하는 코드를 작성하세요."
   ]
  },
  {
   "cell_type": "code",
   "execution_count": 263,
   "metadata": {},
   "outputs": [
    {
     "name": "stdout",
     "output_type": "stream",
     "text": [
      "March Spring\n"
     ]
    }
   ],
   "source": [
    "input_data = int(input('좋아하는 월 입력 :'))\n",
    "\n",
    "Month = ['January', 'February', 'March', 'April',\n",
    "         'May', 'June', 'July', 'August', 'September',\n",
    "         'October', 'November', 'December']\n",
    "\n",
    "if input_data in (3, 4, 5):\n",
    "    print(Month[input_data - 1], 'Spring')\n",
    "\n",
    "elif input_data in (6, 7, 8):\n",
    "    print(Month[input_data - 1], 'Summer')\n",
    "\n",
    "elif input_data in (9, 10, 11):\n",
    "    print(Month[input_data - 1], 'Autumn')\n",
    "    \n",
    "elif input_data in (12, 1, 2):\n",
    "    print(Month[input_data - 1], 'Winter')\n",
    "else:\n",
    "    print('존재하지 않는 월입니다.')"
   ]
  },
  {
   "cell_type": "markdown",
   "metadata": {},
   "source": [
    ">10. 팩토리얼(Factorial)을 while 반복문으로 구현해 주세요.  \n",
    "팩토리얼 수를 입력받아서 팩토리얼 결과를 아래와 같이 출력하세요."
   ]
  },
  {
   "cell_type": "code",
   "execution_count": 406,
   "metadata": {},
   "outputs": [
    {
     "name": "stdout",
     "output_type": "stream",
     "text": [
      "7! => 7 * 6 * 5 * 4 * 3 * 2 * 1 = 5040\n"
     ]
    }
   ],
   "source": [
    "try:\n",
    "    input_data = int(input('팩토리얼 수 입력 :'))\n",
    "\n",
    "    number = input_data\n",
    "\n",
    "    # 입력값이 0일때\n",
    "    if number == 0:\n",
    "        print(f\"{number}! => {number}\")\n",
    "\n",
    "    # 입력값이 0 미만의 음수일때\n",
    "    elif number < 0:\n",
    "        print('0 이상의 값을 입력하세요.')\n",
    "\n",
    "    else:\n",
    "        temp = []\n",
    "\n",
    "        factorial = 1\n",
    "\n",
    "        while input_data > 0:\n",
    "            factorial = input_data * factorial\n",
    "            temp.append(str(input_data))\n",
    "            input_data = input_data - 1\n",
    "            temp.append(' * ')\n",
    "\n",
    "        result = temp[:len(temp)-1]\n",
    "\n",
    "        print(f\"{number}! => {''.join(result)} = {factorial}\")\n",
    "\n",
    "# 정수값이 아니거나 문자값이 입력되어 int(input())을 수행할 수 없을때\n",
    "except:\n",
    "    print(\"정수값을 입력하세요.\")"
   ]
  }
 ],
 "metadata": {
  "kernelspec": {
   "display_name": "Python 3",
   "language": "python",
   "name": "python3"
  },
  "language_info": {
   "codemirror_mode": {
    "name": "ipython",
    "version": 3
   },
   "file_extension": ".py",
   "mimetype": "text/x-python",
   "name": "python",
   "nbconvert_exporter": "python",
   "pygments_lexer": "ipython3",
   "version": "3.11.9"
  }
 },
 "nbformat": 4,
 "nbformat_minor": 2
}
